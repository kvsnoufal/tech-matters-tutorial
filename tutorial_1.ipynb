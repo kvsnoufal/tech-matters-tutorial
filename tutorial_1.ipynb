{
 "cells": [
  {
   "cell_type": "markdown",
   "source": [
    "Variable assignment"
   ],
   "metadata": {}
  },
  {
   "cell_type": "code",
   "execution_count": 3,
   "source": [
    "a = 1\n",
    "b = 2\n",
    "print(a)\n",
    "\n",
    "variablename = 3\n",
    "print(variablename)\n",
    "\n",
    "variablename2 = \"Hello World\"\n",
    "\n",
    "\n",
    "print(\"Display any text here\")\n",
    "\n",
    "print(\"variable a is :\",a)\n",
    "print(\"variable b is :\",b)\n",
    "\n",
    "print(variablename2)"
   ],
   "outputs": [
    {
     "output_type": "stream",
     "name": "stdout",
     "text": [
      "1\n",
      "3\n",
      "Display any text here\n",
      "variable a is : 1\n",
      "variable b is : 2\n",
      "Hello World\n"
     ]
    }
   ],
   "metadata": {}
  },
  {
   "cell_type": "code",
   "execution_count": 4,
   "source": [
    "sum = a+b\n",
    "print(sum)"
   ],
   "outputs": [
    {
     "output_type": "stream",
     "name": "stdout",
     "text": [
      "3\n"
     ]
    }
   ],
   "metadata": {}
  },
  {
   "cell_type": "code",
   "execution_count": 5,
   "source": [
    "div = a/b\n",
    "mult = a*b\n",
    "sub = a-b\n",
    "\n",
    "noufal = a+b -3\n",
    "print(div,mult,sub,noufal)"
   ],
   "outputs": [
    {
     "output_type": "stream",
     "name": "stdout",
     "text": [
      "0.5 2 -1 0\n"
     ]
    }
   ],
   "metadata": {}
  }
 ],
 "metadata": {
  "orig_nbformat": 4,
  "language_info": {
   "name": "python",
   "version": "3.8.5",
   "mimetype": "text/x-python",
   "codemirror_mode": {
    "name": "ipython",
    "version": 3
   },
   "pygments_lexer": "ipython3",
   "nbconvert_exporter": "python",
   "file_extension": ".py"
  },
  "kernelspec": {
   "name": "python3",
   "display_name": "Python 3.8.5 64-bit ('base': conda)"
  },
  "interpreter": {
   "hash": "4a1decf323874be31660c16cc01af68cafc73f563b26d61410acac30366bd7a2"
  }
 },
 "nbformat": 4,
 "nbformat_minor": 2
}